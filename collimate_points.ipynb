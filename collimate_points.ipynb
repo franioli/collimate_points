{
 "cells": [
  {
   "cell_type": "code",
   "execution_count": 6,
   "metadata": {},
   "outputs": [
    {
     "name": "stdout",
     "output_type": "stream",
     "text": [
      "Metashape is activated:  True\n"
     ]
    }
   ],
   "source": [
    "import numpy as np\n",
    "import pandas as pd\n",
    "import matplotlib.pyplot as plt\n",
    "import sys\n",
    "import os\n",
    "\n",
    "import Metashape \n",
    "\n",
    "from easydict import EasyDict as edict\n",
    "\n",
    "from lib.io import (write_markers_by_camera, \n",
    "                    write_markers_by_marker, \n",
    "                    write_marker_world_coordinates,\n",
    "                    )\n",
    "\n",
    "# from lib.metashape import metashape_workflow_functions as meta\n",
    "# from lib.metashape import metashape_license_setup\n",
    "# from lib.metashape.read_yaml import read_yaml\n",
    "\n",
    "# ---- Checl if Metashape is activated\n",
    "if Metashape.app.activated:\n",
    "    print(\"Metashape is activated: \", Metashape.app.activated)\n",
    "else:\n",
    "    print(\"No licence found. Please check that you linked your license (floating or standalone) wih the Metashape python module.\")\n",
    "    exit()\n",
    "\n",
    "## Define where to get the config file (only used if running interactively)\n",
    "# cfg_path = \"config/base.yml\"\n",
    "# cfg = edict(read_yaml(cfg_path))"
   ]
  },
  {
   "cell_type": "code",
   "execution_count": null,
   "metadata": {},
   "outputs": [],
   "source": [
    "load_project = \"data/belpy.psx\"\n",
    "project_file = \"data/belpy_new.psx\"\n",
    "# markers_file = \"data/belpy_markers.csv\"\n",
    "\n",
    "# create a handle to the Metashape object\n",
    "# When running via Metashape, can use: doc = Metashape.app.document\n",
    "doc = Metashape.Document()\n",
    "\n",
    "# If specified, open existing project\n",
    "if load_project != \"\":\n",
    "    doc.open(load_project)\n",
    "else:\n",
    "    # Initialize a chunk, set its CRS as specified\n",
    "    chunk = doc.addChunk()\n",
    "    # chunk.crs = Metashape.CoordinateSystem(cfg[\"project_crs\"])\n",
    "    # chunk.marker_crs = Metashape.CoordinateSystem(\n",
    "    #     cfg[\"addGCPs\"][\"gcp_crs\"])\n",
    "\n",
    "# Save doc doc as new project (even if we opened an existing project, save as a separate one so the existing project remains accessible in its original state)\n",
    "doc.save(project_file)\n",
    "\n",
    "chunk = doc.chunk\n",
    "write_markers_by_camera(chunk, \"data/belpy2807_markers_images.csv\", \n",
    "                        convert_to_micron=True)\n",
    "write_marker_world_coordinates(chunk, \"data/belpy2807_markers_world.csv\")\n"
   ]
  },
  {
   "cell_type": "code",
   "execution_count": null,
   "metadata": {},
   "outputs": [],
   "source": []
  }
 ],
 "metadata": {
  "kernelspec": {
   "display_name": "Python 3.8.13 ('collimate_points')",
   "language": "python",
   "name": "python3"
  },
  "language_info": {
   "codemirror_mode": {
    "name": "ipython",
    "version": 3
   },
   "file_extension": ".py",
   "mimetype": "text/x-python",
   "name": "python",
   "nbconvert_exporter": "python",
   "pygments_lexer": "ipython3",
   "version": "3.8.13"
  },
  "orig_nbformat": 4,
  "vscode": {
   "interpreter": {
    "hash": "10311ab0eb4b9839dfdb429914675594bfcd6e22bd90a4bc7293a848ff26d945"
   }
  }
 },
 "nbformat": 4,
 "nbformat_minor": 2
}
