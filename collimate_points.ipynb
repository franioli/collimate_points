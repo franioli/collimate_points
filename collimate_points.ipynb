{
 "cells": [
  {
   "cell_type": "code",
   "execution_count": 4,
   "metadata": {},
   "outputs": [
    {
     "name": "stdout",
     "output_type": "stream",
     "text": [
      "Metashape is activated:  True\n"
     ]
    }
   ],
   "source": [
    "from re import I\n",
    "import numpy as np\n",
    "import pandas as pd\n",
    "import matplotlib.pyplot as plt\n",
    "import sys\n",
    "import os\n",
    "\n",
    "import Metashape \n",
    "\n",
    "from easydict import EasyDict as edict\n",
    "\n",
    "from lib.metashape import metashape_workflow_functions as meta\n",
    "from lib.metashape import metashape_license_setup\n",
    "from lib.metashape.read_yaml import read_yaml\n",
    "\n",
    "# ---- Checl if Metashape is activated\n",
    "# otherwise copy the license file from the full metashape install to the Metashape wheel module path, by running metashape_license_setup.\n",
    "# Remember to change the path to the metashape.lic file in the metashape_license_setup script!\n",
    "metashape_license_setup\n",
    "print(\"Metashape is activated: \", Metashape.app.activated)\n",
    "\n",
    "\n",
    "## Define where to get the config file (only used if running interactively)\n",
    "cfg_path = \"config/base.yml\"\n",
    "cfg = edict(read_yaml(cfg_path))\n"
   ]
  },
  {
   "cell_type": "code",
   "execution_count": 5,
   "metadata": {},
   "outputs": [
    {
     "name": "stdout",
     "output_type": "stream",
     "text": [
      "LoadProject: path = data/test.psx\n",
      "loaded project in 0.000792 sec\n",
      "SaveProject: path = data/test_new.psx\n"
     ]
    },
    {
     "name": "stderr",
     "output_type": "stream",
     "text": [
      "Document.open(): The document is opened in read-only mode because it is already in use.\n"
     ]
    },
    {
     "name": "stdout",
     "output_type": "stream",
     "text": [
      "saved project in 3.06641 sec\n",
      "LoadProject: path = data/test_new.psx\n",
      "loaded project in 0.140753 sec\n"
     ]
    }
   ],
   "source": [
    "project_file = \"data/test_new.psx\"\n",
    "load_project = cfg[\"load_project\"]\n",
    "# create a handle to the Metashape object\n",
    "# When running via Metashape, can use: doc = Metashape.app.document\n",
    "doc = Metashape.Document()\n",
    "\n",
    "# If specified, open existing project\n",
    "if load_project != \"\":\n",
    "    doc.open(load_project)\n",
    "else:\n",
    "    # Initialize a chunk, set its CRS as specified\n",
    "    chunk = doc.addChunk() \n",
    "    chunk.crs = Metashape.CoordinateSystem(cfg[\"project_crs\"])\n",
    "    chunk.marker_crs = Metashape.CoordinateSystem(\n",
    "        cfg[\"addGCPs\"][\"gcp_crs\"])\n",
    "\n",
    "# Save doc doc as new project (even if we opened an existing project, save as a separate one so the existing project remains accessible in its original state)\n",
    "doc.save(project_file)\n"
   ]
  },
  {
   "cell_type": "code",
   "execution_count": 27,
   "metadata": {},
   "outputs": [],
   "source": [
    "def write_markers_by_camera(chunk: Metashape.Chunk, \n",
    "                             file_name: str,\n",
    "                             ) -> None:\n",
    "    \"\"\" Write Marker image coordinates to csv file,\n",
    "    sort by camera, as follows:\n",
    "    cam1, marker1, x, y\n",
    "    cam1, marker2, x, y\n",
    "    ... \n",
    "    cam1, markerM, x, y\n",
    "    cam2, marker1, x, y\n",
    "    ....\n",
    "    camN, markerM, x,Y\n",
    "    \n",
    "    Args:\n",
    "        chunk (Metashape.Chunk): Metashape Chunk\n",
    "        file_name (str): path of the output csv file\n",
    "    \"\"\"\n",
    "    camN, markerM, x, Y\n",
    "\n",
    "    file = open(file_name, \"wt\")\n",
    "\n",
    "    for camera in chunk.cameras:\n",
    "        for marker in chunk.markers:\n",
    "            projections = marker.projections  # list of marker projections\n",
    "            marker_name = marker.label\n",
    "\n",
    "            for cur_cam in marker.projections.keys():\n",
    "                if cur_cam == camera:\n",
    "                    cam_name = cur_cam.label\n",
    "                    x, y = projections[cur_cam].coord\n",
    "                    # writing output to file\n",
    "                    file.write(cam_name + \",\" + marker_name + \",\" + \",\" +\n",
    "                            \"{:.4f}\".format(x) + \",\" + \"{:.4f}\".format(y) + \"\\n\")  \n",
    "\n",
    "    file.close()\n",
    "\n",
    "\n",
    "def write_markers_by_marker(chunk: Metashape.Chunk,\n",
    "                            file_name: str,\n",
    "                            ) -> None:\n",
    "    \"\"\" Write Marker image coordinates to csv file,\n",
    "    sort by camera, as follows:\n",
    "    marker1, cam1, x, y\n",
    "    marker1, cam2, x, y\n",
    "    ... \n",
    "    marker1, camN, x, y\n",
    "    marker2, cam1, x, y\n",
    "    ....\n",
    "    markerM, camN, x, y\n",
    "    \n",
    "    Args:\n",
    "        chunk (Metashape.Chunk): Metashape Chunk\n",
    "        file_name (str): path of the output csv file\n",
    "    \"\"\"\n",
    "\n",
    "    file = open(file_name, \"wt\")\n",
    "\n",
    "    for marker in chunk.markers:\n",
    "        projections = marker.projections  # list of marker projections\n",
    "        marker_name = marker.label\n",
    "        for camera in marker.projections.keys():\n",
    "            x, y = projections[camera].coord\n",
    "            label = camera.label\n",
    "            # writing output to file\n",
    "            file.write(marker_name + \",\" + label + \",\" +\n",
    "                        \"{:.4f}\".format(x) + \",\" + \"{:.4f}\".format(y) + \"\\n\")\n",
    "\n",
    "    file.close()"
   ]
  },
  {
   "cell_type": "code",
   "execution_count": 28,
   "metadata": {},
   "outputs": [],
   "source": [
    "fpath = \"test.csv\"\n",
    "chunk = doc.chunk\n",
    "write_markers_by_camera(chunk, fpath)\n",
    "write_markers_by_marker(chunk, fpath)"
   ]
  },
  {
   "cell_type": "code",
   "execution_count": null,
   "metadata": {},
   "outputs": [],
   "source": []
  },
  {
   "cell_type": "code",
   "execution_count": null,
   "metadata": {},
   "outputs": [],
   "source": []
  }
 ],
 "metadata": {
  "kernelspec": {
   "display_name": "Python 3.8.13 ('collimate_points')",
   "language": "python",
   "name": "python3"
  },
  "language_info": {
   "codemirror_mode": {
    "name": "ipython",
    "version": 3
   },
   "file_extension": ".py",
   "mimetype": "text/x-python",
   "name": "python",
   "nbconvert_exporter": "python",
   "pygments_lexer": "ipython3",
   "version": "3.8.13"
  },
  "orig_nbformat": 4,
  "vscode": {
   "interpreter": {
    "hash": "52f347c68eb04d59a9468e2a17a24315b17d657ddfe10bdc4be1a16482d5d5c0"
   }
  }
 },
 "nbformat": 4,
 "nbformat_minor": 2
}
