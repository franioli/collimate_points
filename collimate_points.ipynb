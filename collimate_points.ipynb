{
 "cells": [
  {
   "cell_type": "code",
   "execution_count": 1,
   "metadata": {},
   "outputs": [
    {
     "name": "stdout",
     "output_type": "stream",
     "text": [
      "Metashape is activated:  True\n"
     ]
    }
   ],
   "source": [
    "import numpy as np\n",
    "import pandas as pd\n",
    "import matplotlib.pyplot as plt\n",
    "import sys\n",
    "import os\n",
    "\n",
    "import Metashape \n",
    "\n",
    "from easydict import EasyDict as edict\n",
    "\n",
    "from lib.io import (write_markers_by_camera, \n",
    "                    write_markers_by_marker, \n",
    "                    write_marker_world_coordinates,\n",
    "                    )\n",
    "from lib.utils import check_license\n",
    "\n",
    "check_license()"
   ]
  },
  {
   "cell_type": "code",
   "execution_count": null,
   "metadata": {},
   "outputs": [],
   "source": [
    "load_project = \"data/belpy.psx\"\n",
    "project_file = \"data/belpy_new.psx\"\n",
    "# markers_file = \"data/belpy_markers.csv\"\n",
    "\n",
    "# create a handle to the Metashape object\n",
    "# When running via Metashape, can use: doc = Metashape.app.document\n",
    "doc = Metashape.Document()\n",
    "\n",
    "# If specified, open existing project\n",
    "if load_project != \"\":\n",
    "    doc.open(load_project)\n",
    "else:\n",
    "    # Initialize a chunk, set its CRS as specified\n",
    "    chunk = doc.addChunk()\n",
    "    # chunk.crs = Metashape.CoordinateSystem(cfg[\"project_crs\"])\n",
    "    # chunk.marker_crs = Metashape.CoordinateSystem(\n",
    "    #     cfg[\"addGCPs\"][\"gcp_crs\"])\n",
    "\n",
    "# Save doc doc as new project (even if we opened an existing project, save as a separate one so the existing project remains accessible in its original state)\n",
    "doc.save(project_file)\n",
    "\n",
    "chunk = doc.chunk\n",
    "write_markers_by_camera(chunk, \"data/belpy2807_markers_images.csv\", \n",
    "                        convert_to_micron=False)\n",
    "# write_marker_world_coordinates(chunk, \"data/belpy2807_markers_world.csv\")\n"
   ]
  },
  {
   "cell_type": "code",
   "execution_count": null,
   "metadata": {},
   "outputs": [],
   "source": [
    "from pathlib import Path\n",
    "\n",
    "def write_markers_one_cam_per_file( chunk: Metashape.Chunk,\n",
    "                                    output_dir = 'targets',\n",
    "                                    convert_to_micron: bool = False,\n",
    "                                    ) -> None:\n",
    "    \"\"\" Write Marker image coordinates to csv file,\n",
    "    sort by camera, as follows:\n",
    "    marker1, x, y\n",
    "    marker2, x, y\n",
    "    ... \n",
    "    markerM, x, y\n",
    "\n",
    "    Args:\n",
    "        chunk (Metashape.Chunk): Metashape Chunk\n",
    "        output_dir (str): path of the output folder (default=\"targets\")\n",
    "        convert_to_micron (bool, default = False) \n",
    "    \"\"\"\n",
    "\n",
    "    # Check if output folder exists, or create it\n",
    "    output_dir = Path(output_dir)\n",
    "    \n",
    "    if not (output_dir.is_dir()):\n",
    "        print(\"Output directory does not exists. Creating it.\")\n",
    "        output_dir.mkdir()\n",
    "    else:\n",
    "        print(\"Output directory already exists. Writing files in it.\")\n",
    "\n",
    "    for camera in chunk.cameras:\n",
    "        \n",
    "        # Write header to file\n",
    "        file = open(output_dir / (camera.label+'.csv'), 'w')\n",
    "        file.write(\"label,x,y\\n\")\n",
    "\n",
    "        for marker in chunk.markers:\n",
    "            projections = marker.projections  # list of marker projections\n",
    "            marker_name = marker.label\n",
    "\n",
    "            for cur_cam in marker.projections.keys():\n",
    "                if cur_cam == camera:\n",
    "                    cam_name = cur_cam.label\n",
    "                    x, y = projections[cur_cam].coord\n",
    "\n",
    "                    # writing output to file\n",
    "                    file.write(f\"{marker_name},{x:.4f},{y:.4f}\\n\")\n",
    "        file.close()\n",
    "\n",
    "    print(\"All targets exported successfully\")\n",
    "\n",
    "\n",
    "write_markers_one_cam_per_file( chunk, \n",
    "                                \"targets\",\n",
    "                                convert_to_micron=False)\n"
   ]
  }
 ],
 "metadata": {
  "kernelspec": {
   "display_name": "Python 3.8.13 ('collimate_points')",
   "language": "python",
   "name": "python3"
  },
  "language_info": {
   "codemirror_mode": {
    "name": "ipython",
    "version": 3
   },
   "file_extension": ".py",
   "mimetype": "text/x-python",
   "name": "python",
   "nbconvert_exporter": "python",
   "pygments_lexer": "ipython3",
   "version": "3.8.13"
  },
  "orig_nbformat": 4,
  "vscode": {
   "interpreter": {
    "hash": "10311ab0eb4b9839dfdb429914675594bfcd6e22bd90a4bc7293a848ff26d945"
   }
  }
 },
 "nbformat": 4,
 "nbformat_minor": 2
}
